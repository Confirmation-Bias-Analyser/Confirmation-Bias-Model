{
  "nbformat": 4,
  "nbformat_minor": 0,
  "metadata": {
    "colab": {
      "name": "Lexicon-based Approaches and Text Clustering.ipynb",
      "provenance": [],
      "collapsed_sections": [],
      "authorship_tag": "ABX9TyP72jtyIuTXRiuxAbLhOLtu",
      "include_colab_link": true
    },
    "kernelspec": {
      "name": "python3",
      "display_name": "Python 3"
    },
    "language_info": {
      "name": "python"
    }
  },
  "cells": [
    {
      "cell_type": "markdown",
      "metadata": {
        "id": "view-in-github",
        "colab_type": "text"
      },
      "source": [
        "<a href=\"https://colab.research.google.com/github/Confirmation-Bias-Analyser/Confirmation-Bias-Model/blob/main/Lexicon_based_Approaches_and_Text_Clustering.ipynb\" target=\"_parent\"><img src=\"https://colab.research.google.com/assets/colab-badge.svg\" alt=\"Open In Colab\"/></a>"
      ]
    },
    {
      "cell_type": "code",
      "execution_count": 1,
      "metadata": {
        "id": "AgpEy6m3m1Us"
      },
      "outputs": [],
      "source": [
        "%%capture\n",
        "!pip install sentence_transformers\n",
        "!pip install vaderSentiment"
      ]
    },
    {
      "cell_type": "markdown",
      "source": [
        "# Import essential libraries"
      ],
      "metadata": {
        "id": "BBWRvCiyzfdM"
      }
    },
    {
      "cell_type": "code",
      "source": [
        "import pandas as pd\n",
        "from google.colab import files, drive\n",
        "drive.mount('/content/drive')\n",
        "\n",
        "import re\n",
        "import os\n",
        "import csv\n",
        "import time\n",
        "import numpy as np\n",
        "from sklearn.cluster import KMeans\n",
        "\n",
        "from vaderSentiment.vaderSentiment import SentimentIntensityAnalyzer\n",
        "sid_obj = SentimentIntensityAnalyzer()\n",
        "\n",
        "from sentence_transformers import SentenceTransformer, util\n",
        "embedder = SentenceTransformer('all-MiniLM-L6-v2')\n",
        "\n",
        "from textblob import TextBlob"
      ],
      "metadata": {
        "id": "OOwIdB2DAGRD",
        "colab": {
          "base_uri": "https://localhost:8080/"
        },
        "outputId": "42416f84-f5d5-49a6-dafc-4461d3b2d2ff"
      },
      "execution_count": 2,
      "outputs": [
        {
          "output_type": "stream",
          "name": "stdout",
          "text": [
            "Drive already mounted at /content/drive; to attempt to forcibly remount, call drive.mount(\"/content/drive\", force_remount=True).\n"
          ]
        }
      ]
    },
    {
      "cell_type": "markdown",
      "source": [
        "# Declare relevant functions\n",
        "Functions to clean the string from punctuation marks and other characters. Thereafter perform sentiment analysis with lexicon-based approaches of TextBlob and VADER, and followed by text clustering."
      ],
      "metadata": {
        "id": "mEU68lE5z1YO"
      }
    },
    {
      "cell_type": "code",
      "source": [
        "def getSentimentalResults(vaderObject, sentence):\n",
        "  textBlobResult = TextBlob(sentence)\n",
        "  vaderResult = vaderObject.polarity_scores(sentence)\n",
        "  compoundScore = vaderResult.pop('compound')\n",
        "\n",
        "  return textBlobResult.sentiment.polarity, textBlobResult.sentiment.subjectivity, vaderResult, compoundScore\n",
        "\n",
        "def getClusters(allSentences, embedder, num_clusters = 2):\n",
        "  corpus_embeddings = embedder.encode(allSentences)\n",
        "\n",
        "  # Perform kmean clustering\n",
        "  clustering_model = KMeans(n_clusters=num_clusters)\n",
        "  clustering_model.fit(corpus_embeddings)\n",
        "  cluster_assignment = clustering_model.labels_\n",
        "\n",
        "  clustered_sentences = [[] for i in range(num_clusters)]\n",
        "  for sentence_id, cluster_id in enumerate(cluster_assignment):\n",
        "      clustered_sentences[cluster_id].append([pred_sentences[sentence_id], sentence_id])\n",
        "\n",
        "  return cluster_assignment\n",
        "\n",
        "def cleanComments(comments_array):\n",
        "  sentences = []\n",
        "\n",
        "  for i in comments_array:\n",
        "    sequence = i.replace('\\n', ' ') # Remove new line characters\n",
        "    sequence = sequence.replace('\\.', '')\n",
        "    sequence = sequence.replace('.', '')\n",
        "    sequence = sequence.replace(\",\", \" \")\n",
        "    sequence = sequence.replace(\"'\", \" \")\n",
        "    sequence = sequence.replace('\\\\', '')\n",
        "    sequence = sequence.replace('\\'s', '')\n",
        "    sequence = sequence.replace('&gt;', '') # Remove ampersand\n",
        "    sequence = re.sub(\"(@[A-Za-z0-9]+)|([^0-9A-Za-z \\t])|(\\w+:\\/\\/\\S+)\", \" \", sequence) # Remove the user name\n",
        "    sentences.append(sequence)\n",
        "\n",
        "  return sentences"
      ],
      "metadata": {
        "id": "JGe7BNsDA9M4"
      },
      "execution_count": 3,
      "outputs": []
    },
    {
      "cell_type": "markdown",
      "source": [
        "# Experimenting the function with a sample string"
      ],
      "metadata": {
        "id": "tjU-QQ0Uz-8m"
      }
    },
    {
      "cell_type": "code",
      "source": [
        "string = 'Give us believable reasons why we need mayors And what\\'s with that ridiculous high salaries for mp'\n",
        "getSentimentalResults(sid_obj, string)"
      ],
      "metadata": {
        "id": "JksSQLryzFVz",
        "colab": {
          "base_uri": "https://localhost:8080/"
        },
        "outputId": "553368a0-f0e6-4824-a29f-ee39c1a68ffa"
      },
      "execution_count": 4,
      "outputs": [
        {
          "output_type": "execute_result",
          "data": {
            "text/plain": [
              "(0.10888888888888888, 0.68, {'neg': 0.135, 'neu': 0.865, 'pos': 0.0}, -0.3612)"
            ]
          },
          "metadata": {},
          "execution_count": 4
        }
      ]
    },
    {
      "cell_type": "markdown",
      "source": [
        "# Running the functions against a sample dataset of post and comments on Reddit"
      ],
      "metadata": {
        "id": "f8Br-hBL0TXA"
      }
    },
    {
      "cell_type": "code",
      "source": [
        "saved_path = '/content/drive/MyDrive/Final Year Project/Key Notebooks/Confirmation Bias Analyser/'\n",
        "test_df = pd.read_csv(saved_path + 'reddit_data.csv')\n",
        "\n",
        "pred_sentences = cleanComments(test_df['comment'])"
      ],
      "metadata": {
        "id": "5nPtRIPvAJke"
      },
      "execution_count": 5,
      "outputs": []
    },
    {
      "cell_type": "code",
      "source": [
        "test_df['comment'].head()"
      ],
      "metadata": {
        "colab": {
          "base_uri": "https://localhost:8080/"
        },
        "id": "Vhowz6hGATxE",
        "outputId": "5b975603-0d95-4d14-f6ba-fb340a9b92ca"
      },
      "execution_count": 6,
      "outputs": [
        {
          "output_type": "execute_result",
          "data": {
            "text/plain": [
              "0    All I know is - anyone trying to pull a fast o...\n",
              "1    Why does she think it is OK to lie about such ...\n",
              "2    Here’s some perspective: \\n\\n1) The public nat...\n",
              "3    Well said. It’s only a problem if your party i...\n",
              "4    &gt;Transparency and finding out the truth is ...\n",
              "Name: comment, dtype: object"
            ]
          },
          "metadata": {},
          "execution_count": 6
        }
      ]
    },
    {
      "cell_type": "markdown",
      "source": [
        "## View some results of sentiment analysis"
      ],
      "metadata": {
        "id": "DEpuVSKI0e_v"
      }
    },
    {
      "cell_type": "code",
      "source": [
        "print(len(pred_sentences))\n",
        "pred_sentences[:5]"
      ],
      "metadata": {
        "colab": {
          "base_uri": "https://localhost:8080/"
        },
        "id": "kRf2W0J8AOxe",
        "outputId": "28e02d4e-1a3c-41ad-a9a5-33ef9ff40080"
      },
      "execution_count": 7,
      "outputs": [
        {
          "output_type": "stream",
          "name": "stdout",
          "text": [
            "181\n"
          ]
        },
        {
          "output_type": "execute_result",
          "data": {
            "text/plain": [
              "['All I know is   anyone trying to pull a fast one and lie in parliament from now on will think trice   and that s a good thing for all of us',\n",
              " 'Why does she think it is OK to lie about such things  Sense of impunity ',\n",
              " 'Here s some perspective    1  The public nature and the fact that parliamentarians have to be the one doing this of course puts up lots of visible air time but that does not imply other priorities are forsaken   just like in the private sector there are always people doing the real work while leaders are there for direction and final decisions  2  Isn t there merit in investigating the circumstances surrounding the lies given that if indeed others were complicit in it that it would be a breach of parliamentary privilege    3  If you would like them to stop  regardless of your political views  would you be okay if those complicit are let off ',\n",
              " 'Well said It s only a problem if your party is being investigated If it was a PAP MP committing a lie in Parliament I m sure many here will be asking for more popcorn Transparency and finding out the truth is a priority only when it s good for your team and bad for your enemy',\n",
              " 'Transparency and finding out the truth is a priority only when it s good for your team and bad for your enemy  Ain t that the truth']"
            ]
          },
          "metadata": {},
          "execution_count": 7
        }
      ]
    },
    {
      "cell_type": "markdown",
      "source": [
        "## Visualise results in dataframe"
      ],
      "metadata": {
        "id": "37UPlksL0iSN"
      }
    },
    {
      "cell_type": "code",
      "source": [
        "textblob_polarity = []\n",
        "textblob_subjectivity = []\n",
        "vader_results = []\n",
        "vaderCompoundScores = []\n",
        "\n",
        "for i in pred_sentences:\n",
        "  result = getSentimentalResults(sid_obj, i)\n",
        "  textblob_polarity.append(result[0])\n",
        "  textblob_subjectivity.append(result[1])\n",
        "  vader_results.append(result[2])\n",
        "  vaderCompoundScores.append(result[3])"
      ],
      "metadata": {
        "id": "-5zuqdyAAizr"
      },
      "execution_count": 8,
      "outputs": []
    },
    {
      "cell_type": "code",
      "source": [
        "test_df['textblob_polarity'] = textblob_polarity\n",
        "test_df['textblob_subjectivity'] = textblob_subjectivity\n",
        "test_df['vader_sentiment'] = vader_results\n",
        "test_df['vader_compound_score'] = vaderCompoundScores\n",
        "test_df['topic_cluster'] = getClusters(pred_sentences, embedder)\n",
        "\n",
        "test_df.to_csv('sentiment_result.csv', index=False)\n",
        "test_df.head()"
      ],
      "metadata": {
        "colab": {
          "base_uri": "https://localhost:8080/",
          "height": 461
        },
        "id": "GEFjzAZfCZGc",
        "outputId": "c17c4d32-4169-4261-f798-3183997e8054"
      },
      "execution_count": 9,
      "outputs": [
        {
          "output_type": "execute_result",
          "data": {
            "text/plain": [
              "       user_name       id            timestamp reply_to  \\\n",
              "0    MapleViolet  hpr2kav  2021-12-24 08:55:24   rmqevj   \n",
              "1  HaddockFillet  hra9zzo  2022-01-05 08:14:35  hpr2kav   \n",
              "2  applescript16  hpntm2t  2021-12-23 16:24:16   rmqevj   \n",
              "3         iluj13  hpnwekg  2021-12-23 17:01:54  hpntm2t   \n",
              "4     forzenrose  hpnzb4r  2021-12-23 17:41:51  hpnwekg   \n",
              "\n",
              "                                             comment  url link_title  \\\n",
              "0  All I know is - anyone trying to pull a fast o...  NaN        NaN   \n",
              "1  Why does she think it is OK to lie about such ...  NaN        NaN   \n",
              "2  Here’s some perspective: \\n\\n1) The public nat...  NaN        NaN   \n",
              "3  Well said. It’s only a problem if your party i...  NaN        NaN   \n",
              "4  &gt;Transparency and finding out the truth is ...  NaN        NaN   \n",
              "\n",
              "   textblob_polarity  textblob_subjectivity  \\\n",
              "0       4.500000e-01               0.600000   \n",
              "1       2.500000e-01               0.500000   \n",
              "2       8.214286e-02               0.388095   \n",
              "3       2.142857e-01               0.736508   \n",
              "4       3.700743e-17               0.755556   \n",
              "\n",
              "                              vader_sentiment  vader_compound_score  \\\n",
              "0    {'neg': 0.0, 'neu': 0.912, 'pos': 0.088}                0.4404   \n",
              "1    {'neg': 0.0, 'neu': 0.827, 'pos': 0.173}                0.4466   \n",
              "2   {'neg': 0.05, 'neu': 0.828, 'pos': 0.122}                0.8519   \n",
              "3  {'neg': 0.136, 'neu': 0.673, 'pos': 0.191}                0.2263   \n",
              "4  {'neg': 0.192, 'neu': 0.603, 'pos': 0.205}               -0.1280   \n",
              "\n",
              "   topic_cluster  \n",
              "0              0  \n",
              "1              1  \n",
              "2              1  \n",
              "3              1  \n",
              "4              1  "
            ],
            "text/html": [
              "\n",
              "  <div id=\"df-85360b86-8505-439d-8535-53f3a209be5f\">\n",
              "    <div class=\"colab-df-container\">\n",
              "      <div>\n",
              "<style scoped>\n",
              "    .dataframe tbody tr th:only-of-type {\n",
              "        vertical-align: middle;\n",
              "    }\n",
              "\n",
              "    .dataframe tbody tr th {\n",
              "        vertical-align: top;\n",
              "    }\n",
              "\n",
              "    .dataframe thead th {\n",
              "        text-align: right;\n",
              "    }\n",
              "</style>\n",
              "<table border=\"1\" class=\"dataframe\">\n",
              "  <thead>\n",
              "    <tr style=\"text-align: right;\">\n",
              "      <th></th>\n",
              "      <th>user_name</th>\n",
              "      <th>id</th>\n",
              "      <th>timestamp</th>\n",
              "      <th>reply_to</th>\n",
              "      <th>comment</th>\n",
              "      <th>url</th>\n",
              "      <th>link_title</th>\n",
              "      <th>textblob_polarity</th>\n",
              "      <th>textblob_subjectivity</th>\n",
              "      <th>vader_sentiment</th>\n",
              "      <th>vader_compound_score</th>\n",
              "      <th>topic_cluster</th>\n",
              "    </tr>\n",
              "  </thead>\n",
              "  <tbody>\n",
              "    <tr>\n",
              "      <th>0</th>\n",
              "      <td>MapleViolet</td>\n",
              "      <td>hpr2kav</td>\n",
              "      <td>2021-12-24 08:55:24</td>\n",
              "      <td>rmqevj</td>\n",
              "      <td>All I know is - anyone trying to pull a fast o...</td>\n",
              "      <td>NaN</td>\n",
              "      <td>NaN</td>\n",
              "      <td>4.500000e-01</td>\n",
              "      <td>0.600000</td>\n",
              "      <td>{'neg': 0.0, 'neu': 0.912, 'pos': 0.088}</td>\n",
              "      <td>0.4404</td>\n",
              "      <td>0</td>\n",
              "    </tr>\n",
              "    <tr>\n",
              "      <th>1</th>\n",
              "      <td>HaddockFillet</td>\n",
              "      <td>hra9zzo</td>\n",
              "      <td>2022-01-05 08:14:35</td>\n",
              "      <td>hpr2kav</td>\n",
              "      <td>Why does she think it is OK to lie about such ...</td>\n",
              "      <td>NaN</td>\n",
              "      <td>NaN</td>\n",
              "      <td>2.500000e-01</td>\n",
              "      <td>0.500000</td>\n",
              "      <td>{'neg': 0.0, 'neu': 0.827, 'pos': 0.173}</td>\n",
              "      <td>0.4466</td>\n",
              "      <td>1</td>\n",
              "    </tr>\n",
              "    <tr>\n",
              "      <th>2</th>\n",
              "      <td>applescript16</td>\n",
              "      <td>hpntm2t</td>\n",
              "      <td>2021-12-23 16:24:16</td>\n",
              "      <td>rmqevj</td>\n",
              "      <td>Here’s some perspective: \\n\\n1) The public nat...</td>\n",
              "      <td>NaN</td>\n",
              "      <td>NaN</td>\n",
              "      <td>8.214286e-02</td>\n",
              "      <td>0.388095</td>\n",
              "      <td>{'neg': 0.05, 'neu': 0.828, 'pos': 0.122}</td>\n",
              "      <td>0.8519</td>\n",
              "      <td>1</td>\n",
              "    </tr>\n",
              "    <tr>\n",
              "      <th>3</th>\n",
              "      <td>iluj13</td>\n",
              "      <td>hpnwekg</td>\n",
              "      <td>2021-12-23 17:01:54</td>\n",
              "      <td>hpntm2t</td>\n",
              "      <td>Well said. It’s only a problem if your party i...</td>\n",
              "      <td>NaN</td>\n",
              "      <td>NaN</td>\n",
              "      <td>2.142857e-01</td>\n",
              "      <td>0.736508</td>\n",
              "      <td>{'neg': 0.136, 'neu': 0.673, 'pos': 0.191}</td>\n",
              "      <td>0.2263</td>\n",
              "      <td>1</td>\n",
              "    </tr>\n",
              "    <tr>\n",
              "      <th>4</th>\n",
              "      <td>forzenrose</td>\n",
              "      <td>hpnzb4r</td>\n",
              "      <td>2021-12-23 17:41:51</td>\n",
              "      <td>hpnwekg</td>\n",
              "      <td>&amp;gt;Transparency and finding out the truth is ...</td>\n",
              "      <td>NaN</td>\n",
              "      <td>NaN</td>\n",
              "      <td>3.700743e-17</td>\n",
              "      <td>0.755556</td>\n",
              "      <td>{'neg': 0.192, 'neu': 0.603, 'pos': 0.205}</td>\n",
              "      <td>-0.1280</td>\n",
              "      <td>1</td>\n",
              "    </tr>\n",
              "  </tbody>\n",
              "</table>\n",
              "</div>\n",
              "      <button class=\"colab-df-convert\" onclick=\"convertToInteractive('df-85360b86-8505-439d-8535-53f3a209be5f')\"\n",
              "              title=\"Convert this dataframe to an interactive table.\"\n",
              "              style=\"display:none;\">\n",
              "        \n",
              "  <svg xmlns=\"http://www.w3.org/2000/svg\" height=\"24px\"viewBox=\"0 0 24 24\"\n",
              "       width=\"24px\">\n",
              "    <path d=\"M0 0h24v24H0V0z\" fill=\"none\"/>\n",
              "    <path d=\"M18.56 5.44l.94 2.06.94-2.06 2.06-.94-2.06-.94-.94-2.06-.94 2.06-2.06.94zm-11 1L8.5 8.5l.94-2.06 2.06-.94-2.06-.94L8.5 2.5l-.94 2.06-2.06.94zm10 10l.94 2.06.94-2.06 2.06-.94-2.06-.94-.94-2.06-.94 2.06-2.06.94z\"/><path d=\"M17.41 7.96l-1.37-1.37c-.4-.4-.92-.59-1.43-.59-.52 0-1.04.2-1.43.59L10.3 9.45l-7.72 7.72c-.78.78-.78 2.05 0 2.83L4 21.41c.39.39.9.59 1.41.59.51 0 1.02-.2 1.41-.59l7.78-7.78 2.81-2.81c.8-.78.8-2.07 0-2.86zM5.41 20L4 18.59l7.72-7.72 1.47 1.35L5.41 20z\"/>\n",
              "  </svg>\n",
              "      </button>\n",
              "      \n",
              "  <style>\n",
              "    .colab-df-container {\n",
              "      display:flex;\n",
              "      flex-wrap:wrap;\n",
              "      gap: 12px;\n",
              "    }\n",
              "\n",
              "    .colab-df-convert {\n",
              "      background-color: #E8F0FE;\n",
              "      border: none;\n",
              "      border-radius: 50%;\n",
              "      cursor: pointer;\n",
              "      display: none;\n",
              "      fill: #1967D2;\n",
              "      height: 32px;\n",
              "      padding: 0 0 0 0;\n",
              "      width: 32px;\n",
              "    }\n",
              "\n",
              "    .colab-df-convert:hover {\n",
              "      background-color: #E2EBFA;\n",
              "      box-shadow: 0px 1px 2px rgba(60, 64, 67, 0.3), 0px 1px 3px 1px rgba(60, 64, 67, 0.15);\n",
              "      fill: #174EA6;\n",
              "    }\n",
              "\n",
              "    [theme=dark] .colab-df-convert {\n",
              "      background-color: #3B4455;\n",
              "      fill: #D2E3FC;\n",
              "    }\n",
              "\n",
              "    [theme=dark] .colab-df-convert:hover {\n",
              "      background-color: #434B5C;\n",
              "      box-shadow: 0px 1px 3px 1px rgba(0, 0, 0, 0.15);\n",
              "      filter: drop-shadow(0px 1px 2px rgba(0, 0, 0, 0.3));\n",
              "      fill: #FFFFFF;\n",
              "    }\n",
              "  </style>\n",
              "\n",
              "      <script>\n",
              "        const buttonEl =\n",
              "          document.querySelector('#df-85360b86-8505-439d-8535-53f3a209be5f button.colab-df-convert');\n",
              "        buttonEl.style.display =\n",
              "          google.colab.kernel.accessAllowed ? 'block' : 'none';\n",
              "\n",
              "        async function convertToInteractive(key) {\n",
              "          const element = document.querySelector('#df-85360b86-8505-439d-8535-53f3a209be5f');\n",
              "          const dataTable =\n",
              "            await google.colab.kernel.invokeFunction('convertToInteractive',\n",
              "                                                     [key], {});\n",
              "          if (!dataTable) return;\n",
              "\n",
              "          const docLinkHtml = 'Like what you see? Visit the ' +\n",
              "            '<a target=\"_blank\" href=https://colab.research.google.com/notebooks/data_table.ipynb>data table notebook</a>'\n",
              "            + ' to learn more about interactive tables.';\n",
              "          element.innerHTML = '';\n",
              "          dataTable['output_type'] = 'display_data';\n",
              "          await google.colab.output.renderOutput(dataTable, element);\n",
              "          const docLink = document.createElement('div');\n",
              "          docLink.innerHTML = docLinkHtml;\n",
              "          element.appendChild(docLink);\n",
              "        }\n",
              "      </script>\n",
              "    </div>\n",
              "  </div>\n",
              "  "
            ]
          },
          "metadata": {},
          "execution_count": 9
        }
      ]
    },
    {
      "cell_type": "code",
      "source": [
        ""
      ],
      "metadata": {
        "id": "fHznocuEeUla"
      },
      "execution_count": 9,
      "outputs": []
    }
  ]
}